{
 "cells": [
  {
   "cell_type": "code",
   "execution_count": 6,
   "id": "963cb817",
   "metadata": {},
   "outputs": [],
   "source": [
    "import pandas as pd\n",
    "import json"
   ]
  },
  {
   "cell_type": "code",
   "execution_count": 55,
   "id": "802e9001",
   "metadata": {},
   "outputs": [
    {
     "data": {
      "text/plain": [
       "0.44241982507288635"
      ]
     },
     "execution_count": 55,
     "metadata": {},
     "output_type": "execute_result"
    }
   ],
   "source": [
    "from sklearn.metrics import cohen_kappa_score\n",
    "kappa = pd.read_csv(\"kappa.csv\")\n",
    "kappa\n",
    "cohen_kappa_score(kappa.Abreen, kappa.Clary)"
   ]
  },
  {
   "cell_type": "code",
   "execution_count": 58,
   "id": "fd85fdcb",
   "metadata": {},
   "outputs": [],
   "source": [
    "coder1 = list(kappa.Abreen)\n",
    "coder2 = list(kappa.Clary)\n",
    "coder3 = list(kappa.Lei)"
   ]
  },
  {
   "cell_type": "code",
   "execution_count": 60,
   "id": "c292d1e3",
   "metadata": {},
   "outputs": [
    {
     "name": "stdout",
     "output_type": "stream",
     "text": [
      "Fleiss's Kappa: 0.5381791483113069\n"
     ]
    }
   ],
   "source": [
    "# Fleiss’ Kappa works for any number of annotators giving\n",
    "# categorical ratings.\n",
    "from nltk import agreement\n",
    "coder1_new, coder2_new, coder3_new = [], [], []\n",
    "for i in range(len(coder1)):\n",
    "    coder1_new.append([1, i, coder1[i]])\n",
    "    coder2_new.append([2, i, coder2[i]])\n",
    "    coder3_new.append([3, i, coder3[i]])\n",
    "formatted_codes = coder1_new + coder2_new + coder3_new\n",
    "rating_task = agreement.AnnotationTask(data = formatted_codes)\n",
    "print('Fleiss\\'s Kappa:', rating_task.multi_kappa())"
   ]
  },
  {
   "cell_type": "code",
   "execution_count": null,
   "id": "0035d6ff",
   "metadata": {},
   "outputs": [],
   "source": []
  }
 ],
 "metadata": {
  "kernelspec": {
   "display_name": "Python 3 (ipykernel)",
   "language": "python",
   "name": "python3"
  },
  "language_info": {
   "codemirror_mode": {
    "name": "ipython",
    "version": 3
   },
   "file_extension": ".py",
   "mimetype": "text/x-python",
   "name": "python",
   "nbconvert_exporter": "python",
   "pygments_lexer": "ipython3",
   "version": "3.9.7"
  }
 },
 "nbformat": 4,
 "nbformat_minor": 5
}
